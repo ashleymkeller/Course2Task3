{
 "cells": [
  {
   "cell_type": "code",
   "execution_count": 1,
   "id": "32bb054a",
   "metadata": {},
   "outputs": [],
   "source": [
    "#imports\n",
    "import numpy as np\n",
    "import pandas as pd\n",
    "import scipy\n",
    "from math import sqrt\n",
    "import matplotlib.pyplot as plt\n",
    "\n",
    "#estimators\n",
    "from sklearn.ensemble import RandomForestRegressor, GradientBoostingRegressor\n",
    "from sklearn.linear_model import LinearRegression\n",
    "from sklearn.svm import SVR\n",
    "from sklearn import linear_model\n",
    "\n",
    "#model metrics\n",
    "from sklearn.metrics import mean_squared_error\n",
    "from sklearn.metrics import r2_score\n",
    "from sklearn.model_selection import train_test_split\n",
    "\n",
    "#cross validation\n",
    "from sklearn.model_selection import cross_val_score\n",
    "\n",
    "# helpers\n",
    "%matplotlib inline"
   ]
  },
  {
   "cell_type": "code",
   "execution_count": 2,
   "id": "853f9570",
   "metadata": {},
   "outputs": [],
   "source": [
    "#import the data\n",
    "credit = pd.read_csv('CreditOneDataEDA.csv')"
   ]
  },
  {
   "cell_type": "code",
   "execution_count": 3,
   "id": "1a46eb03",
   "metadata": {
    "scrolled": false
   },
   "outputs": [
    {
     "name": "stdout",
     "output_type": "stream",
     "text": [
      "<class 'pandas.core.frame.DataFrame'>\n",
      "RangeIndex: 30000 entries, 0 to 29999\n",
      "Data columns (total 31 columns):\n",
      " #   Column                                  Non-Null Count  Dtype\n",
      "---  ------                                  --------------  -----\n",
      " 0   Unnamed: 0                              30000 non-null  int64\n",
      " 1   ID                                      30000 non-null  int64\n",
      " 2   LIMIT_BAL                               30000 non-null  int64\n",
      " 3   MARRIAGE                                30000 non-null  int64\n",
      " 4   AGE                                     30000 non-null  int64\n",
      " 5   PAY_0                                   30000 non-null  int64\n",
      " 6   PAY_2                                   30000 non-null  int64\n",
      " 7   PAY_3                                   30000 non-null  int64\n",
      " 8   PAY_4                                   30000 non-null  int64\n",
      " 9   PAY_5                                   30000 non-null  int64\n",
      " 10  PAY_6                                   30000 non-null  int64\n",
      " 11  BILL_AMT1                               30000 non-null  int64\n",
      " 12  BILL_AMT2                               30000 non-null  int64\n",
      " 13  BILL_AMT3                               30000 non-null  int64\n",
      " 14  BILL_AMT4                               30000 non-null  int64\n",
      " 15  BILL_AMT5                               30000 non-null  int64\n",
      " 16  BILL_AMT6                               30000 non-null  int64\n",
      " 17  PAY_AMT1                                30000 non-null  int64\n",
      " 18  PAY_AMT2                                30000 non-null  int64\n",
      " 19  PAY_AMT3                                30000 non-null  int64\n",
      " 20  PAY_AMT4                                30000 non-null  int64\n",
      " 21  PAY_AMT5                                30000 non-null  int64\n",
      " 22  PAY_AMT6                                30000 non-null  int64\n",
      " 23  SEX_female                              30000 non-null  int64\n",
      " 24  SEX_male                                30000 non-null  int64\n",
      " 25  EDUCATION_graduate school               30000 non-null  int64\n",
      " 26  EDUCATION_high school                   30000 non-null  int64\n",
      " 27  EDUCATION_other                         30000 non-null  int64\n",
      " 28  EDUCATION_university                    30000 non-null  int64\n",
      " 29  default payment next month_default      30000 non-null  int64\n",
      " 30  default payment next month_not default  30000 non-null  int64\n",
      "dtypes: int64(31)\n",
      "memory usage: 7.1 MB\n"
     ]
    }
   ],
   "source": [
    "#check the data\n",
    "credit.info()"
   ]
  },
  {
   "cell_type": "code",
   "execution_count": 4,
   "id": "81ecec23",
   "metadata": {},
   "outputs": [],
   "source": [
    "#Need to get rid of the index\n",
    "credit.to_csv('CreditModeling.csv', index=False)"
   ]
  },
  {
   "cell_type": "code",
   "execution_count": 5,
   "id": "5772a98b",
   "metadata": {},
   "outputs": [],
   "source": [
    "#import data for machine learning and modeling\n",
    "creditM=pd.read_csv('CreditModeling.csv')"
   ]
  },
  {
   "cell_type": "code",
   "execution_count": 6,
   "id": "c54ffe47",
   "metadata": {},
   "outputs": [
    {
     "name": "stdout",
     "output_type": "stream",
     "text": [
      "<class 'pandas.core.frame.DataFrame'>\n",
      "RangeIndex: 30000 entries, 0 to 29999\n",
      "Data columns (total 31 columns):\n",
      " #   Column                                  Non-Null Count  Dtype\n",
      "---  ------                                  --------------  -----\n",
      " 0   Unnamed: 0                              30000 non-null  int64\n",
      " 1   ID                                      30000 non-null  int64\n",
      " 2   LIMIT_BAL                               30000 non-null  int64\n",
      " 3   MARRIAGE                                30000 non-null  int64\n",
      " 4   AGE                                     30000 non-null  int64\n",
      " 5   PAY_0                                   30000 non-null  int64\n",
      " 6   PAY_2                                   30000 non-null  int64\n",
      " 7   PAY_3                                   30000 non-null  int64\n",
      " 8   PAY_4                                   30000 non-null  int64\n",
      " 9   PAY_5                                   30000 non-null  int64\n",
      " 10  PAY_6                                   30000 non-null  int64\n",
      " 11  BILL_AMT1                               30000 non-null  int64\n",
      " 12  BILL_AMT2                               30000 non-null  int64\n",
      " 13  BILL_AMT3                               30000 non-null  int64\n",
      " 14  BILL_AMT4                               30000 non-null  int64\n",
      " 15  BILL_AMT5                               30000 non-null  int64\n",
      " 16  BILL_AMT6                               30000 non-null  int64\n",
      " 17  PAY_AMT1                                30000 non-null  int64\n",
      " 18  PAY_AMT2                                30000 non-null  int64\n",
      " 19  PAY_AMT3                                30000 non-null  int64\n",
      " 20  PAY_AMT4                                30000 non-null  int64\n",
      " 21  PAY_AMT5                                30000 non-null  int64\n",
      " 22  PAY_AMT6                                30000 non-null  int64\n",
      " 23  SEX_female                              30000 non-null  int64\n",
      " 24  SEX_male                                30000 non-null  int64\n",
      " 25  EDUCATION_graduate school               30000 non-null  int64\n",
      " 26  EDUCATION_high school                   30000 non-null  int64\n",
      " 27  EDUCATION_other                         30000 non-null  int64\n",
      " 28  EDUCATION_university                    30000 non-null  int64\n",
      " 29  default payment next month_default      30000 non-null  int64\n",
      " 30  default payment next month_not default  30000 non-null  int64\n",
      "dtypes: int64(31)\n",
      "memory usage: 7.1 MB\n"
     ]
    }
   ],
   "source": [
    "credit.info()"
   ]
  },
  {
   "cell_type": "code",
   "execution_count": 7,
   "id": "6006a7a2",
   "metadata": {},
   "outputs": [
    {
     "name": "stdout",
     "output_type": "stream",
     "text": [
      "summary of feature sample\n"
     ]
    },
    {
     "data": {
      "text/html": [
       "<div>\n",
       "<style scoped>\n",
       "    .dataframe tbody tr th:only-of-type {\n",
       "        vertical-align: middle;\n",
       "    }\n",
       "\n",
       "    .dataframe tbody tr th {\n",
       "        vertical-align: top;\n",
       "    }\n",
       "\n",
       "    .dataframe thead th {\n",
       "        text-align: right;\n",
       "    }\n",
       "</style>\n",
       "<table border=\"1\" class=\"dataframe\">\n",
       "  <thead>\n",
       "    <tr style=\"text-align: right;\">\n",
       "      <th></th>\n",
       "      <th>ID</th>\n",
       "      <th>MARRIAGE</th>\n",
       "      <th>AGE</th>\n",
       "      <th>PAY_0</th>\n",
       "      <th>PAY_2</th>\n",
       "      <th>PAY_3</th>\n",
       "      <th>PAY_4</th>\n",
       "      <th>PAY_5</th>\n",
       "      <th>PAY_6</th>\n",
       "      <th>BILL_AMT1</th>\n",
       "      <th>...</th>\n",
       "      <th>PAY_AMT4</th>\n",
       "      <th>PAY_AMT5</th>\n",
       "      <th>PAY_AMT6</th>\n",
       "      <th>SEX_female</th>\n",
       "      <th>SEX_male</th>\n",
       "      <th>EDUCATION_graduate school</th>\n",
       "      <th>EDUCATION_high school</th>\n",
       "      <th>EDUCATION_other</th>\n",
       "      <th>EDUCATION_university</th>\n",
       "      <th>default payment next month_default</th>\n",
       "    </tr>\n",
       "  </thead>\n",
       "  <tbody>\n",
       "    <tr>\n",
       "      <th>0</th>\n",
       "      <td>1</td>\n",
       "      <td>1</td>\n",
       "      <td>24</td>\n",
       "      <td>2</td>\n",
       "      <td>2</td>\n",
       "      <td>-1</td>\n",
       "      <td>-1</td>\n",
       "      <td>-2</td>\n",
       "      <td>-2</td>\n",
       "      <td>3913</td>\n",
       "      <td>...</td>\n",
       "      <td>0</td>\n",
       "      <td>0</td>\n",
       "      <td>0</td>\n",
       "      <td>1</td>\n",
       "      <td>0</td>\n",
       "      <td>0</td>\n",
       "      <td>0</td>\n",
       "      <td>0</td>\n",
       "      <td>1</td>\n",
       "      <td>1</td>\n",
       "    </tr>\n",
       "    <tr>\n",
       "      <th>1</th>\n",
       "      <td>2</td>\n",
       "      <td>2</td>\n",
       "      <td>26</td>\n",
       "      <td>-1</td>\n",
       "      <td>2</td>\n",
       "      <td>0</td>\n",
       "      <td>0</td>\n",
       "      <td>0</td>\n",
       "      <td>2</td>\n",
       "      <td>2682</td>\n",
       "      <td>...</td>\n",
       "      <td>1000</td>\n",
       "      <td>0</td>\n",
       "      <td>2000</td>\n",
       "      <td>1</td>\n",
       "      <td>0</td>\n",
       "      <td>0</td>\n",
       "      <td>0</td>\n",
       "      <td>0</td>\n",
       "      <td>1</td>\n",
       "      <td>1</td>\n",
       "    </tr>\n",
       "    <tr>\n",
       "      <th>2</th>\n",
       "      <td>3</td>\n",
       "      <td>2</td>\n",
       "      <td>34</td>\n",
       "      <td>0</td>\n",
       "      <td>0</td>\n",
       "      <td>0</td>\n",
       "      <td>0</td>\n",
       "      <td>0</td>\n",
       "      <td>0</td>\n",
       "      <td>29239</td>\n",
       "      <td>...</td>\n",
       "      <td>1000</td>\n",
       "      <td>1000</td>\n",
       "      <td>5000</td>\n",
       "      <td>1</td>\n",
       "      <td>0</td>\n",
       "      <td>0</td>\n",
       "      <td>0</td>\n",
       "      <td>0</td>\n",
       "      <td>1</td>\n",
       "      <td>0</td>\n",
       "    </tr>\n",
       "    <tr>\n",
       "      <th>3</th>\n",
       "      <td>4</td>\n",
       "      <td>1</td>\n",
       "      <td>37</td>\n",
       "      <td>0</td>\n",
       "      <td>0</td>\n",
       "      <td>0</td>\n",
       "      <td>0</td>\n",
       "      <td>0</td>\n",
       "      <td>0</td>\n",
       "      <td>46990</td>\n",
       "      <td>...</td>\n",
       "      <td>1100</td>\n",
       "      <td>1069</td>\n",
       "      <td>1000</td>\n",
       "      <td>1</td>\n",
       "      <td>0</td>\n",
       "      <td>0</td>\n",
       "      <td>0</td>\n",
       "      <td>0</td>\n",
       "      <td>1</td>\n",
       "      <td>0</td>\n",
       "    </tr>\n",
       "    <tr>\n",
       "      <th>4</th>\n",
       "      <td>5</td>\n",
       "      <td>1</td>\n",
       "      <td>57</td>\n",
       "      <td>-1</td>\n",
       "      <td>0</td>\n",
       "      <td>-1</td>\n",
       "      <td>0</td>\n",
       "      <td>0</td>\n",
       "      <td>0</td>\n",
       "      <td>8617</td>\n",
       "      <td>...</td>\n",
       "      <td>9000</td>\n",
       "      <td>689</td>\n",
       "      <td>679</td>\n",
       "      <td>0</td>\n",
       "      <td>1</td>\n",
       "      <td>0</td>\n",
       "      <td>0</td>\n",
       "      <td>0</td>\n",
       "      <td>1</td>\n",
       "      <td>0</td>\n",
       "    </tr>\n",
       "  </tbody>\n",
       "</table>\n",
       "<p>5 rows × 28 columns</p>\n",
       "</div>"
      ],
      "text/plain": [
       "   ID  MARRIAGE  AGE  PAY_0  PAY_2  PAY_3  PAY_4  PAY_5  PAY_6  BILL_AMT1  \\\n",
       "0   1         1   24      2      2     -1     -1     -2     -2       3913   \n",
       "1   2         2   26     -1      2      0      0      0      2       2682   \n",
       "2   3         2   34      0      0      0      0      0      0      29239   \n",
       "3   4         1   37      0      0      0      0      0      0      46990   \n",
       "4   5         1   57     -1      0     -1      0      0      0       8617   \n",
       "\n",
       "   ...  PAY_AMT4  PAY_AMT5  PAY_AMT6  SEX_female  SEX_male  \\\n",
       "0  ...         0         0         0           1         0   \n",
       "1  ...      1000         0      2000           1         0   \n",
       "2  ...      1000      1000      5000           1         0   \n",
       "3  ...      1100      1069      1000           1         0   \n",
       "4  ...      9000       689       679           0         1   \n",
       "\n",
       "   EDUCATION_graduate school  EDUCATION_high school  EDUCATION_other  \\\n",
       "0                          0                      0                0   \n",
       "1                          0                      0                0   \n",
       "2                          0                      0                0   \n",
       "3                          0                      0                0   \n",
       "4                          0                      0                0   \n",
       "\n",
       "   EDUCATION_university  default payment next month_default  \n",
       "0                     1                                   1  \n",
       "1                     1                                   1  \n",
       "2                     1                                   0  \n",
       "3                     1                                   0  \n",
       "4                     1                                   0  \n",
       "\n",
       "[5 rows x 28 columns]"
      ]
     },
     "execution_count": 7,
     "metadata": {},
     "output_type": "execute_result"
    }
   ],
   "source": [
    "# slicing, selecting features/range of columns not needed for baseline\n",
    "# planning to use limit balance as the dependent variable\n",
    "X = credit.iloc[:,[1, 3, 4, 5, 6, 7, 8, 9, 10, 11, 12, 13, 14, 15, 16, 17, 18, 19, 20, 21, 22, 23, 24, 25, 26, 27, 28, 29]]\n",
    "print('summary of feature sample')\n",
    "X.head()"
   ]
  },
  {
   "cell_type": "code",
   "execution_count": 8,
   "id": "1a4fc9ad",
   "metadata": {},
   "outputs": [],
   "source": [
    "# dependent variable is limit balance\n",
    "y = credit['LIMIT_BAL']"
   ]
  },
  {
   "cell_type": "code",
   "execution_count": 9,
   "id": "12bdd66b",
   "metadata": {},
   "outputs": [
    {
     "name": "stdout",
     "output_type": "stream",
     "text": [
      "0         20000\n",
      "1        120000\n",
      "2         90000\n",
      "3         50000\n",
      "4         50000\n",
      "          ...  \n",
      "29995    220000\n",
      "29996    150000\n",
      "29997     30000\n",
      "29998     80000\n",
      "29999     50000\n",
      "Name: LIMIT_BAL, Length: 30000, dtype: int64\n"
     ]
    }
   ],
   "source": [
    "# check the dependent variable\n",
    "print(y)"
   ]
  },
  {
   "cell_type": "code",
   "execution_count": 10,
   "id": "551d9ff4",
   "metadata": {},
   "outputs": [],
   "source": [
    "# Train/test split\n",
    "X_train, X_test, y_train, y_test = train_test_split(X, y, test_size=.30, random_state = 321)"
   ]
  },
  {
   "cell_type": "code",
   "execution_count": 11,
   "id": "3939cd0a",
   "metadata": {},
   "outputs": [],
   "source": [
    "# modeling with Random Forest Regressor\n",
    "# limit balance as dependent\n",
    "# baseline\n",
    "RFR1 = RandomForestRegressor()\n",
    "RFR_Model1 = RFR1.fit(X_train,y_train)"
   ]
  },
  {
   "cell_type": "code",
   "execution_count": 12,
   "id": "878c043a",
   "metadata": {},
   "outputs": [
    {
     "name": "stdout",
     "output_type": "stream",
     "text": [
      "0.47776632091478466\n"
     ]
    }
   ],
   "source": [
    "# prediction for the model above\n",
    "RFR1_preds = RFR_Model1.predict(X_test)\n",
    "print(r2_score(y_test, RFR1_preds))"
   ]
  },
  {
   "cell_type": "code",
   "execution_count": 13,
   "id": "70a9438b",
   "metadata": {},
   "outputs": [
    {
     "name": "stdout",
     "output_type": "stream",
     "text": [
      "0.4776588137947244\n"
     ]
    }
   ],
   "source": [
    "# modeling with Gradient Boosting Regressor\n",
    "# limit balance as dependent\n",
    "# baseline\n",
    "GBR1 = GradientBoostingRegressor()\n",
    "GBR_Model1 = GBR1.fit(X_train,y_train)\n",
    "#prediction for the model\n",
    "GBR1_preds = GBR_Model1.predict(X_test)\n",
    "print(r2_score(y_test, GBR1_preds))"
   ]
  },
  {
   "cell_type": "code",
   "execution_count": 14,
   "id": "539d8f53",
   "metadata": {},
   "outputs": [
    {
     "name": "stdout",
     "output_type": "stream",
     "text": [
      "0.36416177395671046\n"
     ]
    }
   ],
   "source": [
    "# modeling with Linear Regression\n",
    "# limit balance as dependent\n",
    "# baseline\n",
    "LR1 = LinearRegression()\n",
    "LR_Model1 = LR1.fit(X_train,y_train)\n",
    "#prediction for the model\n",
    "LR1_preds = LR_Model1.predict(X_test)\n",
    "print(r2_score(y_test, LR1_preds))"
   ]
  },
  {
   "cell_type": "code",
   "execution_count": 15,
   "id": "ad44fd05",
   "metadata": {},
   "outputs": [
    {
     "name": "stdout",
     "output_type": "stream",
     "text": [
      "-0.04422652934615634\n"
     ]
    }
   ],
   "source": [
    "# modeling with Support Vector Regression\n",
    "# limit balance as dependent\n",
    "# baseline\n",
    "SVR1 = SVR()\n",
    "SVR_Model1 = SVR1.fit(X_train,y_train)\n",
    "#prediction for the model\n",
    "SVR1_preds = SVR_Model1.predict(X_test)\n",
    "print(r2_score(y_test, SVR1_preds))"
   ]
  },
  {
   "cell_type": "code",
   "execution_count": 16,
   "id": "317de8db",
   "metadata": {},
   "outputs": [],
   "source": [
    "# prepping regression algorithms\n",
    "# compare these 4 regression algorithms\n",
    "# this creates a copy and stores in the empty list\n",
    "algosClass = []\n",
    "algosClass.append(('Random Forest Regressor', RandomForestRegressor()))\n",
    "algosClass.append(('Gradient Boosting Regressor', GradientBoostingRegressor()))\n",
    "algosClass.append(('Linear Regression', LinearRegression()))\n",
    "algosClass.append(('Support Vector Regression', SVR()))"
   ]
  },
  {
   "cell_type": "code",
   "execution_count": 17,
   "id": "f1a59fa2",
   "metadata": {},
   "outputs": [],
   "source": [
    "# regression scoring comparison, baseline\n",
    "results = []\n",
    "names = []\n",
    "for name, model in algosClass:\n",
    "        result = cross_val_score(model, X,y, cv=3, scoring='r2')\n",
    "        names.append(name)\n",
    "        results.append(result)"
   ]
  },
  {
   "cell_type": "code",
   "execution_count": 18,
   "id": "52450c6a",
   "metadata": {},
   "outputs": [
    {
     "name": "stdout",
     "output_type": "stream",
     "text": [
      "Random Forest Regressor 0.4346715663892071\n",
      "Gradient Boosting Regressor 0.47076807826054984\n",
      "Linear Regression 0.35691056974250834\n",
      "Support Vector Regression -0.05038885517356443\n"
     ]
    }
   ],
   "source": [
    "# cross validation scores, baseline\n",
    "# comparison of all 4\n",
    "for i in range(len(names)):\n",
    "    print(names[i],results[i].mean())"
   ]
  },
  {
   "cell_type": "code",
   "execution_count": null,
   "id": "a7c70d03",
   "metadata": {},
   "outputs": [],
   "source": [
    "# regression scoring comparison, baseline\n",
    "# 5 folds\n",
    "results = []\n",
    "names = []\n",
    "for name, model in algosClass:\n",
    "        result = cross_val_score(model, X,y, cv=5, scoring='r2')\n",
    "        names.append(name)\n",
    "        results.append(result)\n",
    "# cross validation scores, baseline\n",
    "# comparison of all 4\n",
    "for i in range(len(names)):\n",
    "    print(names[i],results[i].mean())"
   ]
  },
  {
   "cell_type": "code",
   "execution_count": null,
   "id": "4f2a3d56",
   "metadata": {},
   "outputs": [],
   "source": [
    "# regression scoring comparison, baseline\n",
    "# 7 folds\n",
    "results = []\n",
    "names = []\n",
    "for name, model in algosClass:\n",
    "        result = cross_val_score(model, X,y, cv=7, scoring='r2')\n",
    "        names.append(name)\n",
    "        results.append(result)\n",
    "# cross validation scores, baseline\n",
    "# comparison of all 4\n",
    "for i in range(len(names)):\n",
    "    print(names[i],results[i].mean())"
   ]
  },
  {
   "cell_type": "code",
   "execution_count": 24,
   "id": "b678a4eb",
   "metadata": {},
   "outputs": [
    {
     "name": "stdout",
     "output_type": "stream",
     "text": [
      "R Squared: 0.478\n",
      "RMSE: 93543.194\n"
     ]
    }
   ],
   "source": [
    "# predictions for Random Forest Regressor, baseline\n",
    "RFRpredRsquared = r2_score(y_test, RFR1_preds)\n",
    "RFRrmse = sqrt(mean_squared_error(y_test, RFR1_preds))\n",
    "print('R Squared: %.3f' % RFRpredRsquared)\n",
    "print('RMSE: %.3f' % RFRrmse)"
   ]
  },
  {
   "cell_type": "code",
   "execution_count": 33,
   "id": "ce19ffe4",
   "metadata": {},
   "outputs": [
    {
     "name": "stdout",
     "output_type": "stream",
     "text": [
      "R Squared: 0.478\n",
      "RMSE: 93552.822\n"
     ]
    }
   ],
   "source": [
    "# predictions for Gradient Boosting Regressor, baseline\n",
    "GBRpredRsquared = r2_score(y_test, GBR1_preds)\n",
    "GBRrmse = sqrt(mean_squared_error(y_test, GBR1_preds))\n",
    "print('R Squared: %.3f' % GBRpredRsquared)\n",
    "print('RMSE: %.3f' % GBRrmse)"
   ]
  },
  {
   "cell_type": "code",
   "execution_count": 35,
   "id": "006edd23",
   "metadata": {},
   "outputs": [
    {
     "name": "stdout",
     "output_type": "stream",
     "text": [
      "R Squared: -0.044\n",
      "RMSE: 132274.802\n"
     ]
    }
   ],
   "source": [
    "# predictions for Support Vector Regression, baseline\n",
    "SVRpredRsquared = r2_score(y_test, SVR1_preds)\n",
    "SVRrmse = sqrt(mean_squared_error(y_test, SVR1_preds))\n",
    "print('R Squared: %.3f' % SVRpredRsquared)\n",
    "print('RMSE: %.3f' % SVRrmse)"
   ]
  },
  {
   "cell_type": "code",
   "execution_count": 36,
   "id": "1318c399",
   "metadata": {},
   "outputs": [
    {
     "name": "stdout",
     "output_type": "stream",
     "text": [
      "R Squared: 0.364\n",
      "RMSE: 103217.438\n"
     ]
    }
   ],
   "source": [
    "# predictions for Linear Regression, baseline\n",
    "LRpredRsquared = r2_score(y_test, LR1_preds)\n",
    "LRrmse = sqrt(mean_squared_error(y_test, LR1_preds))\n",
    "print('R Squared: %.3f' % LRpredRsquared)\n",
    "print('RMSE: %.3f' % LRrmse)"
   ]
  },
  {
   "cell_type": "code",
   "execution_count": 32,
   "id": "d592f8c8",
   "metadata": {
    "scrolled": true
   },
   "outputs": [
    {
     "data": {
      "image/png": "[encoded data removed]",
      "text/plain": [
       "<Figure size 432x288 with 1 Axes>"
      ]
     },
     "metadata": {
      "needs_background": "light"
     },
     "output_type": "display_data"
    }
   ],
   "source": [
    "# plotting the results example\n",
    "# stuck on how to fix the color issue\n",
    "# c argument is wrong but not sure how to fix\n",
    "plt.scatter(y_test, RFR1_preds, alpha = 0.5)\n",
    "plt.xlabel('Ground Truth')\n",
    "plt.ylabel('Predictions')\n",
    "plt.show();"
   ]
  }
 ],
 "metadata": {
  "kernelspec": {
   "display_name": "Python 3 (ipykernel)",
   "language": "python",
   "name": "python3"
  },
  "language_info": {
   "codemirror_mode": {
    "name": "ipython",
    "version": 3
   },
   "file_extension": ".py",
   "mimetype": "text/x-python",
   "name": "python",
   "nbconvert_exporter": "python",
   "pygments_lexer": "ipython3",
   "version": "3.8.12"
  }
 },
 "nbformat": 4,
 "nbformat_minor": 5
}
